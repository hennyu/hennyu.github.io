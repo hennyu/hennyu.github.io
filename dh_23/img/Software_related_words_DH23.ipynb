{
  "nbformat": 4,
  "nbformat_minor": 0,
  "metadata": {
    "colab": {
      "provenance": []
    },
    "kernelspec": {
      "name": "python3",
      "display_name": "Python 3"
    },
    "language_info": {
      "name": "python"
    }
  },
  "cells": [
    {
      "cell_type": "code",
      "source": [
        "from lxml import etree\n",
        "import pandas as pd"
      ],
      "metadata": {
        "id": "_icupRTHEiK2"
      },
      "execution_count": null,
      "outputs": []
    },
    {
      "cell_type": "code",
      "source": [
        "tree = etree.parse(\"DH2023_BookOfAbstracts.xml\") # parsing the XML\n",
        "root = tree.getroot() # setting the root"
      ],
      "metadata": {
        "id": "mafHLB4AEPBa"
      },
      "execution_count": null,
      "outputs": []
    },
    {
      "cell_type": "code",
      "source": [
        "ns = {\"tei\": \"http://www.tei-c.org/ns/1.0\"} # namespace definition\n",
        "tei_elements = tree.xpath(\"//tei:TEI\", namespaces=ns) # find all TEI\n",
        "\n",
        "# open empty containers to save the data\n",
        "titles = []\n",
        "authors = []\n",
        "abstracts = []\n",
        "\n",
        "# Iterate through each TEI element\n",
        "for tei in tei_elements:\n",
        "    # Title\n",
        "    title = tei.xpath(\".//tei:titleStmt/tei:title/text()\", namespaces=ns)\n",
        "    titles.append(title[0] if title else \"\")\n",
        "    # Authors\n",
        "    author_list = tei.xpath(\".//tei:titleStmt/tei:author/tei:persName\", namespaces=ns)\n",
        "    author_names = [f\"{a.xpath('tei:forename/text()', namespaces=ns)[0]} {a.xpath('tei:surname/text()', namespaces=ns)[0]}\" for a in author_list]\n",
        "    authors.append(\", \".join(author_names) if author_names else \"\")\n",
        "    # Abstract\n",
        "    abstract = tei.xpath(\".//tei:text/tei:body//tei:p/text()\", namespaces=ns)\n",
        "    abstracts.append(\" \".join(abstract) if abstract else \"\")\n",
        "\n",
        "# saving the data in a df\n",
        "df = pd.DataFrame({\"Title\": titles, \"Authors\": authors, \"Abstract\": abstracts})\n",
        "# delete the first row, it saved everything there all together\n",
        "df = df.iloc[1:]\n",
        "# remove the line breaks\n",
        "df['Abstract'] = df['Abstract'].str.replace('\\n', '')"
      ],
      "metadata": {
        "id": "TYVKrGqEMUbf"
      },
      "execution_count": null,
      "outputs": []
    },
    {
      "cell_type": "code",
      "source": [
        "df.head() # show!"
      ],
      "metadata": {
        "id": "32bfLQprNt7r"
      },
      "execution_count": null,
      "outputs": []
    },
    {
      "cell_type": "code",
      "source": [
        "# defining the keywords we want to look for\n",
        "keywords = ['dataset', 'software', 'tool', 'automatic', 'program', 'python','algorithm']\n",
        "\n",
        "\n",
        "# defining a function to look for the keywords\n",
        "def operation(element):\n",
        " res=\",\".join([(keyword) for keyword in keywords if (keyword in element)])\n",
        " if res==\"\":\n",
        "  return \"none\" # no keyword\n",
        " else:\n",
        "  return res\n",
        "\n",
        "df.insert(1,\n",
        "          \"keywords\",\n",
        "          list(map(operation,list(df.to_dict()['Abstract'].values()))),\n",
        "          True)\n"
      ],
      "metadata": {
        "id": "ycdIO17qmE6_"
      },
      "execution_count": null,
      "outputs": []
    },
    {
      "cell_type": "code",
      "source": [
        "df.head()"
      ],
      "metadata": {
        "colab": {
          "base_uri": "https://localhost:8080/",
          "height": 458
        },
        "id": "CfMXZcnZOuTD",
        "outputId": "5350a55c-0fbb-4666-a8a8-0591ead07fcd"
      },
      "execution_count": null,
      "outputs": [
        {
          "output_type": "execute_result",
          "data": {
            "text/plain": [
              "                                               Title      keywords  \\\n",
              "1                                            Welcome       program   \n",
              "2                       Collaboration as Opportunity  tool,program   \n",
              "3  Two-Fold Revolutions: Computational Museology ...      software   \n",
              "4  Contesting power in the digital age: the role ...          tool   \n",
              "5                             \\n                              none   \n",
              "\n",
              "                                             Authors  \\\n",
              "1                                      Georg Vogeler   \n",
              "2                         Toma Tasovac, Anne Baillot   \n",
              "3                                   Sarah Kenderdine   \n",
              "4                                   Claire Fernandez   \n",
              "5  Glen Layne-Worthey, Diane Jakacki, Susan Brown...   \n",
              "\n",
              "                                            Abstract  \\\n",
              "1  Conference proceedings are not an established ...   \n",
              "2  The yearly ADHO conference is a scholarly gath...   \n",
              "3                      The present digital and cu...   \n",
              "4                                           EDRi,...   \n",
              "5  The closing ceremony of DH2019 marked the offi...   \n",
              "\n",
              "                                              Tokens  Software_Mentions  \\\n",
              "1  [conference, proceedings, are, not, an, establ...                  3   \n",
              "2  [the, yearly, adho, conference, is, a, scholar...                  2   \n",
              "3  [the, present, digital, and, cultural, age, co...                  1   \n",
              "4  [edri, ,, european, digital, rights, ,, is, th...                  0   \n",
              "5  [the, closing, ceremony, of, dh2019, marked, t...                  0   \n",
              "\n",
              "   Software_Frequency  \n",
              "1            0.008086  \n",
              "2            0.005391  \n",
              "3            0.002695  \n",
              "4            0.000000  \n",
              "5            0.000000  "
            ],
            "text/html": [
              "\n",
              "  <div id=\"df-a56ed978-f1b1-4134-baa6-a5a6f5c591d6\">\n",
              "    <div class=\"colab-df-container\">\n",
              "      <div>\n",
              "<style scoped>\n",
              "    .dataframe tbody tr th:only-of-type {\n",
              "        vertical-align: middle;\n",
              "    }\n",
              "\n",
              "    .dataframe tbody tr th {\n",
              "        vertical-align: top;\n",
              "    }\n",
              "\n",
              "    .dataframe thead th {\n",
              "        text-align: right;\n",
              "    }\n",
              "</style>\n",
              "<table border=\"1\" class=\"dataframe\">\n",
              "  <thead>\n",
              "    <tr style=\"text-align: right;\">\n",
              "      <th></th>\n",
              "      <th>Title</th>\n",
              "      <th>keywords</th>\n",
              "      <th>Authors</th>\n",
              "      <th>Abstract</th>\n",
              "      <th>Tokens</th>\n",
              "      <th>Software_Mentions</th>\n",
              "      <th>Software_Frequency</th>\n",
              "    </tr>\n",
              "  </thead>\n",
              "  <tbody>\n",
              "    <tr>\n",
              "      <th>1</th>\n",
              "      <td>Welcome</td>\n",
              "      <td>program</td>\n",
              "      <td>Georg Vogeler</td>\n",
              "      <td>Conference proceedings are not an established ...</td>\n",
              "      <td>[conference, proceedings, are, not, an, establ...</td>\n",
              "      <td>3</td>\n",
              "      <td>0.008086</td>\n",
              "    </tr>\n",
              "    <tr>\n",
              "      <th>2</th>\n",
              "      <td>Collaboration as Opportunity</td>\n",
              "      <td>tool,program</td>\n",
              "      <td>Toma Tasovac, Anne Baillot</td>\n",
              "      <td>The yearly ADHO conference is a scholarly gath...</td>\n",
              "      <td>[the, yearly, adho, conference, is, a, scholar...</td>\n",
              "      <td>2</td>\n",
              "      <td>0.005391</td>\n",
              "    </tr>\n",
              "    <tr>\n",
              "      <th>3</th>\n",
              "      <td>Two-Fold Revolutions: Computational Museology ...</td>\n",
              "      <td>software</td>\n",
              "      <td>Sarah Kenderdine</td>\n",
              "      <td>The present digital and cu...</td>\n",
              "      <td>[the, present, digital, and, cultural, age, co...</td>\n",
              "      <td>1</td>\n",
              "      <td>0.002695</td>\n",
              "    </tr>\n",
              "    <tr>\n",
              "      <th>4</th>\n",
              "      <td>Contesting power in the digital age: the role ...</td>\n",
              "      <td>tool</td>\n",
              "      <td>Claire Fernandez</td>\n",
              "      <td>EDRi,...</td>\n",
              "      <td>[edri, ,, european, digital, rights, ,, is, th...</td>\n",
              "      <td>0</td>\n",
              "      <td>0.000000</td>\n",
              "    </tr>\n",
              "    <tr>\n",
              "      <th>5</th>\n",
              "      <td>\\n</td>\n",
              "      <td>none</td>\n",
              "      <td>Glen Layne-Worthey, Diane Jakacki, Susan Brown...</td>\n",
              "      <td>The closing ceremony of DH2019 marked the offi...</td>\n",
              "      <td>[the, closing, ceremony, of, dh2019, marked, t...</td>\n",
              "      <td>0</td>\n",
              "      <td>0.000000</td>\n",
              "    </tr>\n",
              "  </tbody>\n",
              "</table>\n",
              "</div>\n",
              "      <button class=\"colab-df-convert\" onclick=\"convertToInteractive('df-a56ed978-f1b1-4134-baa6-a5a6f5c591d6')\"\n",
              "              title=\"Convert this dataframe to an interactive table.\"\n",
              "              style=\"display:none;\">\n",
              "        \n",
              "  <svg xmlns=\"http://www.w3.org/2000/svg\" height=\"24px\"viewBox=\"0 0 24 24\"\n",
              "       width=\"24px\">\n",
              "    <path d=\"M0 0h24v24H0V0z\" fill=\"none\"/>\n",
              "    <path d=\"M18.56 5.44l.94 2.06.94-2.06 2.06-.94-2.06-.94-.94-2.06-.94 2.06-2.06.94zm-11 1L8.5 8.5l.94-2.06 2.06-.94-2.06-.94L8.5 2.5l-.94 2.06-2.06.94zm10 10l.94 2.06.94-2.06 2.06-.94-2.06-.94-.94-2.06-.94 2.06-2.06.94z\"/><path d=\"M17.41 7.96l-1.37-1.37c-.4-.4-.92-.59-1.43-.59-.52 0-1.04.2-1.43.59L10.3 9.45l-7.72 7.72c-.78.78-.78 2.05 0 2.83L4 21.41c.39.39.9.59 1.41.59.51 0 1.02-.2 1.41-.59l7.78-7.78 2.81-2.81c.8-.78.8-2.07 0-2.86zM5.41 20L4 18.59l7.72-7.72 1.47 1.35L5.41 20z\"/>\n",
              "  </svg>\n",
              "      </button>\n",
              "      \n",
              "  <style>\n",
              "    .colab-df-container {\n",
              "      display:flex;\n",
              "      flex-wrap:wrap;\n",
              "      gap: 12px;\n",
              "    }\n",
              "\n",
              "    .colab-df-convert {\n",
              "      background-color: #E8F0FE;\n",
              "      border: none;\n",
              "      border-radius: 50%;\n",
              "      cursor: pointer;\n",
              "      display: none;\n",
              "      fill: #1967D2;\n",
              "      height: 32px;\n",
              "      padding: 0 0 0 0;\n",
              "      width: 32px;\n",
              "    }\n",
              "\n",
              "    .colab-df-convert:hover {\n",
              "      background-color: #E2EBFA;\n",
              "      box-shadow: 0px 1px 2px rgba(60, 64, 67, 0.3), 0px 1px 3px 1px rgba(60, 64, 67, 0.15);\n",
              "      fill: #174EA6;\n",
              "    }\n",
              "\n",
              "    [theme=dark] .colab-df-convert {\n",
              "      background-color: #3B4455;\n",
              "      fill: #D2E3FC;\n",
              "    }\n",
              "\n",
              "    [theme=dark] .colab-df-convert:hover {\n",
              "      background-color: #434B5C;\n",
              "      box-shadow: 0px 1px 3px 1px rgba(0, 0, 0, 0.15);\n",
              "      filter: drop-shadow(0px 1px 2px rgba(0, 0, 0, 0.3));\n",
              "      fill: #FFFFFF;\n",
              "    }\n",
              "  </style>\n",
              "\n",
              "      <script>\n",
              "        const buttonEl =\n",
              "          document.querySelector('#df-a56ed978-f1b1-4134-baa6-a5a6f5c591d6 button.colab-df-convert');\n",
              "        buttonEl.style.display =\n",
              "          google.colab.kernel.accessAllowed ? 'block' : 'none';\n",
              "\n",
              "        async function convertToInteractive(key) {\n",
              "          const element = document.querySelector('#df-a56ed978-f1b1-4134-baa6-a5a6f5c591d6');\n",
              "          const dataTable =\n",
              "            await google.colab.kernel.invokeFunction('convertToInteractive',\n",
              "                                                     [key], {});\n",
              "          if (!dataTable) return;\n",
              "\n",
              "          const docLinkHtml = 'Like what you see? Visit the ' +\n",
              "            '<a target=\"_blank\" href=https://colab.research.google.com/notebooks/data_table.ipynb>data table notebook</a>'\n",
              "            + ' to learn more about interactive tables.';\n",
              "          element.innerHTML = '';\n",
              "          dataTable['output_type'] = 'display_data';\n",
              "          await google.colab.output.renderOutput(dataTable, element);\n",
              "          const docLink = document.createElement('div');\n",
              "          docLink.innerHTML = docLinkHtml;\n",
              "          element.appendChild(docLink);\n",
              "        }\n",
              "      </script>\n",
              "    </div>\n",
              "  </div>\n",
              "  "
            ]
          },
          "metadata": {},
          "execution_count": 185
        }
      ]
    },
    {
      "cell_type": "code",
      "source": [
        "df.keywords.value_counts()['none']"
      ],
      "metadata": {
        "colab": {
          "base_uri": "https://localhost:8080/"
        },
        "id": "O1OylENwoiT_",
        "outputId": "d7739387-b88f-4e23-99f9-ce64ba7a01ea"
      },
      "execution_count": null,
      "outputs": [
        {
          "output_type": "execute_result",
          "data": {
            "text/plain": [
              "62"
            ]
          },
          "metadata": {},
          "execution_count": 206
        }
      ]
    },
    {
      "cell_type": "code",
      "source": [
        "percentage_without_keywords = (df.keywords.value_counts()['none'] / len(df)) * 100\n",
        "percentage_with_keywords = 100 - percentage_without_keywords\n",
        "\n",
        "labels = ['Abstracts with Keywords',\n",
        "          'Abstracts without Keywords']\n",
        "sizes = [percentage_with_keywords,\n",
        "         percentage_without_keywords]\n",
        "colors = ['paleturquoise',\n",
        "          'darkcyan']\n",
        "\n",
        "plt.pie(sizes,\n",
        "        colors=colors,\n",
        "        autopct='%1.1f%%')\n",
        "plt.suptitle(\"Software-related words in DH 2023 Abstracts\")\n",
        "plt.title('\\nPercentage of usage of at least one of the following keywords in the text of the abstract:\\n '+', '.join(keywords), size=8)\n",
        "\n",
        "plt.legend(labels,\n",
        "           loc='upper center',\n",
        "           bbox_to_anchor=(0.5, +0.08),\n",
        "           fancybox=True,\n",
        "           shadow=True)\n",
        "\n",
        "plt.savefig('keywordpie2.png',\n",
        "            dpi=300,\n",
        "            transparent=True)\n",
        "plt.show()"
      ],
      "metadata": {
        "colab": {
          "base_uri": "https://localhost:8080/",
          "height": 478
        },
        "id": "iDRbOyMGRndJ",
        "outputId": "0fe33961-6920-4263-d8c6-8962c779818c"
      },
      "execution_count": null,
      "outputs": [
        {
          "output_type": "display_data",
          "data": {
            "text/plain": [
              "<Figure size 640x480 with 1 Axes>"
            ],
            "image/png": "[encoded data removed]"
          },
          "metadata": {}
        }
      ]
    }
  ]
}